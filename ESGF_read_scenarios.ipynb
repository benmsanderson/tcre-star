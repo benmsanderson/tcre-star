{
  "cells": [
    {
      "cell_type": "markdown",
      "metadata": {
        "id": "view-in-github",
        "colab_type": "text"
      },
      "source": [
        "<a href=\"https://colab.research.google.com/github/benmsanderson/tcre-star/blob/main/ESGF_read_scenarios.ipynb\" target=\"_parent\"><img src=\"https://colab.research.google.com/assets/colab-badge.svg\" alt=\"Open In Colab\"/></a>"
      ]
    },
    {
      "cell_type": "code",
      "execution_count": null,
      "metadata": {
        "id": "8SWL6pqMsawL"
      },
      "outputs": [],
      "source": [
        "import os\n",
        "import requests\n"
      ]
    },
    {
      "cell_type": "code",
      "execution_count": null,
      "metadata": {
        "colab": {
          "base_uri": "https://localhost:8080/"
        },
        "id": "FHwHcepyst1x",
        "outputId": "321a1c63-8c50-4592-bcb6-e31e9fc28d2c"
      },
      "outputs": [
        {
          "name": "stdout",
          "output_type": "stream",
          "text": [
            "Drive already mounted at /content/drive; to attempt to forcibly remount, call drive.mount(\"/content/drive\", force_remount=True).\n"
          ]
        }
      ],
      "source": [
        "from google.colab import drive\n",
        "drive.mount('/content/drive')"
      ]
    },
    {
      "cell_type": "code",
      "execution_count": null,
      "metadata": {
        "id": "w3NMZqvns-Tw"
      },
      "outputs": [],
      "source": [
        "!cp /content/drive/MyDrive/esmf/esmf.tar /content"
      ]
    },
    {
      "cell_type": "code",
      "execution_count": null,
      "metadata": {
        "id": "R9gM7ayyuX17"
      },
      "outputs": [],
      "source": [
        "os.chdir('/content')\n",
        "!tar -xf esmf.tar"
      ]
    },
    {
      "cell_type": "code",
      "execution_count": null,
      "metadata": {
        "colab": {
          "base_uri": "https://localhost:8080/"
        },
        "id": "ZrCOM8d7unMT",
        "outputId": "6c028e78-b8c4-4f3b-c5fa-8ed91ba9b451"
      },
      "outputs": [
        {
          "name": "stdout",
          "output_type": "stream",
          "text": [
            "Processing ./esmf/src/addon/esmpy\n",
            "  Installing build dependencies ... \u001b[?25l\u001b[?25hdone\n",
            "  Getting requirements to build wheel ... \u001b[?25l\u001b[?25hdone\n",
            "  Preparing metadata (pyproject.toml) ... \u001b[?25l\u001b[?25hdone\n",
            "Requirement already satisfied: numpy in /usr/local/lib/python3.10/dist-packages (from esmpy==8.6.0b7) (1.23.5)\n",
            "Requirement already satisfied: setuptools-git-versioning in /usr/local/lib/python3.10/dist-packages (from esmpy==8.6.0b7) (1.13.5)\n",
            "Requirement already satisfied: packaging in /usr/local/lib/python3.10/dist-packages (from setuptools-git-versioning->esmpy==8.6.0b7) (23.2)\n",
            "Requirement already satisfied: setuptools in /usr/local/lib/python3.10/dist-packages (from setuptools-git-versioning->esmpy==8.6.0b7) (67.7.2)\n",
            "Requirement already satisfied: toml>=0.10.2 in /usr/local/lib/python3.10/dist-packages (from setuptools-git-versioning->esmpy==8.6.0b7) (0.10.2)\n",
            "Building wheels for collected packages: esmpy\n",
            "  Building wheel for esmpy (pyproject.toml) ... \u001b[?25l\u001b[?25hdone\n",
            "  Created wheel for esmpy: filename=esmpy-8.6.0b7-py3-none-any.whl size=120542 sha256=75a699c5baff86c833dd2a53883fac72cd71b0033a26d4845f459d9821f2cf13\n",
            "  Stored in directory: /tmp/pip-ephem-wheel-cache-3k7ssgm8/wheels/32/fe/f1/f7ade03cece49b78d0fe0ad7db65bca3927bb369ac4eb124bd\n",
            "Successfully built esmpy\n",
            "Installing collected packages: esmpy\n",
            "  Attempting uninstall: esmpy\n",
            "    Found existing installation: esmpy 8.6.0b7\n",
            "    Uninstalling esmpy-8.6.0b7:\n",
            "      Successfully uninstalled esmpy-8.6.0b7\n",
            "Successfully installed esmpy-8.6.0b7\n"
          ]
        }
      ],
      "source": [
        "!python3 -m pip install /content/esmf/src/addon/esmpy"
      ]
    },
    {
      "cell_type": "code",
      "execution_count": null,
      "metadata": {
        "colab": {
          "base_uri": "https://localhost:8080/"
        },
        "id": "SW5QYY5juonn",
        "outputId": "c1266294-8854-47e3-fa18-37c37ca2c1ce"
      },
      "outputs": [
        {
          "name": "stdout",
          "output_type": "stream",
          "text": [
            "Collecting git+https://github.com/pangeo-data/xesmf.git\n",
            "  Cloning https://github.com/pangeo-data/xesmf.git to /tmp/pip-req-build-2qgxm982\n",
            "  Running command git clone --filter=blob:none --quiet https://github.com/pangeo-data/xesmf.git /tmp/pip-req-build-2qgxm982\n",
            "  Resolved https://github.com/pangeo-data/xesmf.git to commit 35a872743d93205239bd00e84e54e85f5c393f0e\n",
            "  Installing build dependencies ... \u001b[?25l\u001b[?25hdone\n",
            "  Getting requirements to build wheel ... \u001b[?25l\u001b[?25hdone\n",
            "  Preparing metadata (pyproject.toml) ... \u001b[?25l\u001b[?25hdone\n",
            "Requirement already satisfied: cf-xarray>=0.5.1 in /usr/local/lib/python3.10/dist-packages (from xesmf==0.8.2) (0.8.4)\n",
            "Requirement already satisfied: numba>=0.55.2 in /usr/local/lib/python3.10/dist-packages (from xesmf==0.8.2) (0.56.4)\n",
            "Requirement already satisfied: numpy>=1.16 in /usr/local/lib/python3.10/dist-packages (from xesmf==0.8.2) (1.23.5)\n",
            "Requirement already satisfied: shapely in /usr/local/lib/python3.10/dist-packages (from xesmf==0.8.2) (2.0.1)\n",
            "Requirement already satisfied: sparse>=0.8.0 in /usr/local/lib/python3.10/dist-packages (from xesmf==0.8.2) (0.14.0)\n",
            "Requirement already satisfied: xarray>=0.16.2 in /usr/local/lib/python3.10/dist-packages (from xesmf==0.8.2) (2023.7.0)\n",
            "Requirement already satisfied: llvmlite<0.40,>=0.39.0dev0 in /usr/local/lib/python3.10/dist-packages (from numba>=0.55.2->xesmf==0.8.2) (0.39.1)\n",
            "Requirement already satisfied: setuptools in /usr/local/lib/python3.10/dist-packages (from numba>=0.55.2->xesmf==0.8.2) (67.7.2)\n",
            "Requirement already satisfied: scipy>=0.19 in /usr/local/lib/python3.10/dist-packages (from sparse>=0.8.0->xesmf==0.8.2) (1.11.3)\n",
            "Requirement already satisfied: pandas>=1.4 in /usr/local/lib/python3.10/dist-packages (from xarray>=0.16.2->xesmf==0.8.2) (1.5.3)\n",
            "Requirement already satisfied: packaging>=21.3 in /usr/local/lib/python3.10/dist-packages (from xarray>=0.16.2->xesmf==0.8.2) (23.2)\n",
            "Requirement already satisfied: python-dateutil>=2.8.1 in /usr/local/lib/python3.10/dist-packages (from pandas>=1.4->xarray>=0.16.2->xesmf==0.8.2) (2.8.2)\n",
            "Requirement already satisfied: pytz>=2020.1 in /usr/local/lib/python3.10/dist-packages (from pandas>=1.4->xarray>=0.16.2->xesmf==0.8.2) (2023.3.post1)\n",
            "Requirement already satisfied: six>=1.5 in /usr/local/lib/python3.10/dist-packages (from python-dateutil>=2.8.1->pandas>=1.4->xarray>=0.16.2->xesmf==0.8.2) (1.16.0)\n"
          ]
        }
      ],
      "source": [
        "pip install git+https://github.com/pangeo-data/xesmf.git"
      ]
    },
    {
      "cell_type": "code",
      "execution_count": null,
      "metadata": {
        "id": "SSJbo5hHupWN"
      },
      "outputs": [],
      "source": [
        "os.environ[\"ESMFMKFILE\"] = '/content/esmf/lib/libO/Linux.gfortran.64.mpiuni.default/esmf.mk'"
      ]
    },
    {
      "cell_type": "code",
      "execution_count": null,
      "metadata": {
        "colab": {
          "base_uri": "https://localhost:8080/"
        },
        "id": "rk1h-bF8DYZp",
        "outputId": "9837859f-38a0-41bc-9b20-d4fbd76b8a25"
      },
      "outputs": [
        {
          "name": "stderr",
          "output_type": "stream",
          "text": [
            "/usr/local/lib/python3.10/dist-packages/esmpy/interface/loadESMF.py:92: VersionWarning: ESMF installation version 8.6.0 beta snapshot, ESMPy version 8.6.0b7\n",
            "  warnings.warn(\"ESMF installation version {}, ESMPy version {}\".format(\n"
          ]
        }
      ],
      "source": [
        "import xesmf as xe\n"
      ]
    },
    {
      "cell_type": "code",
      "execution_count": null,
      "metadata": {
        "id": "JPj2Bj-RaZV6"
      },
      "outputs": [],
      "source": [
        "import warnings\n",
        "warnings.simplefilter(\"ignore\")\n",
        "\n",
        "from itertools import groupby"
      ]
    },
    {
      "cell_type": "code",
      "execution_count": null,
      "metadata": {
        "colab": {
          "base_uri": "https://localhost:8080/"
        },
        "id": "INLruQTNQzV_",
        "outputId": "9c8e9654-ec80-4351-dec2-193d81b3408b"
      },
      "outputs": [
        {
          "name": "stdout",
          "output_type": "stream",
          "text": [
            "Requirement already satisfied: nc-time-axis in /usr/local/lib/python3.10/dist-packages (1.4.1)\n",
            "Requirement already satisfied: cftime>=1.5 in /usr/local/lib/python3.10/dist-packages (from nc-time-axis) (1.6.2)\n",
            "Requirement already satisfied: matplotlib in /usr/local/lib/python3.10/dist-packages (from nc-time-axis) (3.7.1)\n",
            "Requirement already satisfied: numpy in /usr/local/lib/python3.10/dist-packages (from nc-time-axis) (1.23.5)\n",
            "Requirement already satisfied: contourpy>=1.0.1 in /usr/local/lib/python3.10/dist-packages (from matplotlib->nc-time-axis) (1.1.1)\n",
            "Requirement already satisfied: cycler>=0.10 in /usr/local/lib/python3.10/dist-packages (from matplotlib->nc-time-axis) (0.12.0)\n",
            "Requirement already satisfied: fonttools>=4.22.0 in /usr/local/lib/python3.10/dist-packages (from matplotlib->nc-time-axis) (4.43.0)\n",
            "Requirement already satisfied: kiwisolver>=1.0.1 in /usr/local/lib/python3.10/dist-packages (from matplotlib->nc-time-axis) (1.4.5)\n",
            "Requirement already satisfied: packaging>=20.0 in /usr/local/lib/python3.10/dist-packages (from matplotlib->nc-time-axis) (23.2)\n",
            "Requirement already satisfied: pillow>=6.2.0 in /usr/local/lib/python3.10/dist-packages (from matplotlib->nc-time-axis) (9.4.0)\n",
            "Requirement already satisfied: pyparsing>=2.3.1 in /usr/local/lib/python3.10/dist-packages (from matplotlib->nc-time-axis) (3.1.1)\n",
            "Requirement already satisfied: python-dateutil>=2.7 in /usr/local/lib/python3.10/dist-packages (from matplotlib->nc-time-axis) (2.8.2)\n",
            "Requirement already satisfied: six>=1.5 in /usr/local/lib/python3.10/dist-packages (from python-dateutil>=2.7->matplotlib->nc-time-axis) (1.16.0)\n"
          ]
        }
      ],
      "source": [
        "pip install nc-time-axis\n"
      ]
    },
    {
      "cell_type": "code",
      "execution_count": null,
      "metadata": {
        "colab": {
          "base_uri": "https://localhost:8080/"
        },
        "id": "4-I8e0cQLxlg",
        "outputId": "ed639aad-63d3-4049-f466-93b2534a0fd6"
      },
      "outputs": [
        {
          "name": "stdout",
          "output_type": "stream",
          "text": [
            "Requirement already satisfied: h5pyd in /usr/local/lib/python3.10/dist-packages (0.16.0)\n",
            "Requirement already satisfied: numpy>=1.17.3 in /usr/local/lib/python3.10/dist-packages (from h5pyd) (1.23.5)\n",
            "Requirement already satisfied: requests-unixsocket in /usr/local/lib/python3.10/dist-packages (from h5pyd) (0.3.0)\n",
            "Requirement already satisfied: pytz in /usr/local/lib/python3.10/dist-packages (from h5pyd) (2023.3.post1)\n",
            "Requirement already satisfied: pyjwt in /usr/lib/python3/dist-packages (from h5pyd) (2.3.0)\n",
            "Requirement already satisfied: requests>=1.1 in /usr/local/lib/python3.10/dist-packages (from requests-unixsocket->h5pyd) (2.31.0)\n",
            "Requirement already satisfied: charset-normalizer<4,>=2 in /usr/local/lib/python3.10/dist-packages (from requests>=1.1->requests-unixsocket->h5pyd) (3.3.0)\n",
            "Requirement already satisfied: idna<4,>=2.5 in /usr/local/lib/python3.10/dist-packages (from requests>=1.1->requests-unixsocket->h5pyd) (3.4)\n",
            "Requirement already satisfied: urllib3<3,>=1.21.1 in /usr/local/lib/python3.10/dist-packages (from requests>=1.1->requests-unixsocket->h5pyd) (2.0.6)\n",
            "Requirement already satisfied: certifi>=2017.4.17 in /usr/local/lib/python3.10/dist-packages (from requests>=1.1->requests-unixsocket->h5pyd) (2023.7.22)\n"
          ]
        }
      ],
      "source": [
        "pip install h5pyd"
      ]
    },
    {
      "cell_type": "code",
      "execution_count": null,
      "metadata": {
        "colab": {
          "base_uri": "https://localhost:8080/"
        },
        "id": "YhjpkqcDPi2L",
        "outputId": "14cf39b9-83a0-4e3c-d183-ed56287d570f"
      },
      "outputs": [
        {
          "name": "stdout",
          "output_type": "stream",
          "text": [
            "Requirement already satisfied: netcdf4==1.6.4 in /usr/local/lib/python3.10/dist-packages (1.6.4)\n",
            "Requirement already satisfied: cftime in /usr/local/lib/python3.10/dist-packages (from netcdf4==1.6.4) (1.6.2)\n",
            "Requirement already satisfied: certifi in /usr/local/lib/python3.10/dist-packages (from netcdf4==1.6.4) (2023.7.22)\n",
            "Requirement already satisfied: numpy in /usr/local/lib/python3.10/dist-packages (from netcdf4==1.6.4) (1.23.5)\n"
          ]
        }
      ],
      "source": [
        " pip install netcdf4==1.6.4"
      ]
    },
    {
      "cell_type": "code",
      "execution_count": null,
      "metadata": {
        "id": "IuuBPEY43CMx"
      },
      "outputs": [],
      "source": [
        "import requests"
      ]
    },
    {
      "cell_type": "code",
      "execution_count": null,
      "metadata": {
        "id": "0ohaP-T_Kt6A"
      },
      "outputs": [],
      "source": [
        "from matplotlib import pyplot as plt\n",
        "import numpy as np\n",
        "import pandas as pd\n",
        "import h5pyd\n",
        "import cftime\n",
        "import xarray as xr\n",
        "import nc_time_axis\n",
        "\n",
        "xr.set_options(display_style='html')\n",
        "%matplotlib inline\n",
        "%config InlineBackend.figure_format = 'retina'"
      ]
    },
    {
      "cell_type": "markdown",
      "metadata": {
        "id": "Tx-BKJAoKt6D"
      },
      "source": [
        "### Search using ESGF API"
      ]
    },
    {
      "cell_type": "code",
      "execution_count": null,
      "metadata": {
        "id": "FKOA2TcZKt6D"
      },
      "outputs": [],
      "source": [
        "#!/usr/bin/env python\n",
        "from __future__ import print_function\n",
        "import requests\n",
        "import xml.etree.ElementTree as ET\n",
        "import numpy\n",
        "\n",
        "# Author: Unknown\n",
        "# I got the original version from a word document published by ESGF\n",
        "# https://docs.google.com/document/d/1pxz1Kd3JHfFp8vR2JCVBfApbsHmbUQQstifhGNdc6U0/edit?usp=sharing\n",
        "\n",
        "# API AT: https://github.com/ESGF/esgf.github.io/wiki/ESGF_Search_REST_API#results-pagination\n",
        "\n",
        "def esgf_search(server=\"https://esgf-node.llnl.gov/esg-search/search\",\n",
        "                files_type=\"OPENDAP\", local_node=True, project=\"CMIP6\",\n",
        "                verbose=False, format=\"application%2Fsolr%2Bjson\",\n",
        "                use_csrf=False, use_replicas=False, **search):\n",
        "    client = requests.session()\n",
        "    payload = search\n",
        "    payload[\"project\"] = project\n",
        "    payload[\"type\"]= \"File\"\n",
        "    payload[\"latest\"]=\"true\"\n",
        "    if use_replicas:\n",
        "        payload[\"replica\"]=\"true\"\n",
        "\n",
        "    if local_node:\n",
        "        payload[\"distrib\"] = \"false\"\n",
        "    if use_csrf:\n",
        "        client.get(server)\n",
        "        if 'csrftoken' in client.cookies:\n",
        "            # Django 1.6 and up\n",
        "            csrftoken = client.cookies['csrftoken']\n",
        "        else:\n",
        "            # older versions\n",
        "            csrftoken = client.cookies['csrf']\n",
        "        payload[\"csrfmiddlewaretoken\"] = csrftoken\n",
        "\n",
        "    payload[\"format\"] = format\n",
        "\n",
        "    offset = 0\n",
        "    numFound = 10000\n",
        "    all_files = []\n",
        "    files_type = files_type.upper()\n",
        "    while offset < numFound:\n",
        "        payload[\"offset\"] = offset\n",
        "        url_keys = []\n",
        "        for k in payload:\n",
        "            url_keys += [\"{}={}\".format(k, payload[k])]\n",
        "\n",
        "        url = \"{}/?{}\".format(server, \"&\".join(url_keys))\n",
        "        #print(url)\n",
        "        r = client.get(url)\n",
        "        r.raise_for_status()\n",
        "        resp = r.json()[\"response\"]\n",
        "        numFound = int(resp[\"numFound\"])\n",
        "        resp = resp[\"docs\"]\n",
        "        offset += len(resp)\n",
        "        for d in resp:\n",
        "            if verbose:\n",
        "                for k in d:\n",
        "                    print(\"{}: {}\".format(k,d[k]))\n",
        "            url = d[\"url\"]\n",
        "            for f in d[\"url\"]:\n",
        "                sp = f.split(\"|\")\n",
        "                if sp[-1] == files_type:\n",
        "                    all_files.append(sp[0].split(\".html\")[0])\n",
        "    result=sorted(all_files)\n",
        "    tmp = [[c for _, c in g] for _, g in groupby(zip( [x.split('_')[-3]+'_'+x.split('_')[-2]+'_'+x.split('_')[0].split('http://')[-1].split('/')[0] for x in result],result), key=lambda x: x[0])]\n",
        "    return tmp"
      ]
    },
    {
      "cell_type": "code",
      "execution_count": null,
      "metadata": {
        "id": "GCAyFw-Oz1zx"
      },
      "outputs": [],
      "source": [
        "mdls=[\"CanESM5\",\"GFDL-ESM4\",\"GISS-E2-1-G\",\"GISS-E2-1-H\",\"CESM2-WACCM\",\"MIROC-ES2L\",\"UKESM1-0-LL\",\"IPSL-CM6A-LR\"]\n",
        "#mdls=[\"CanESM5\"]"
      ]
    },
    {
      "cell_type": "code",
      "execution_count": null,
      "metadata": {
        "id": "Suk6c58hzXps"
      },
      "outputs": [],
      "source": [
        "scens={'ssp585','ssp534-over','ssp119','ssp126','ssp245'}\n",
        "vars={'fgco2','nbp','tas'}\n",
        "var_types={}\n",
        "var_types['nbp']='Lmon'\n",
        "var_types['tas']='Amon'\n",
        "var_types['fgco2']='Omon'\n",
        "\n"
      ]
    },
    {
      "cell_type": "code",
      "execution_count": null,
      "metadata": {
        "id": "pnBQIDQCJTCt"
      },
      "outputs": [],
      "source": [
        "def pullfile(fl):\n",
        "  lst=[]\n",
        "  for f in fl:\n",
        "    url = f.replace('dodsC','fileServer')\n",
        "    fn=url.split('/')[-1]\n",
        "    r = requests.get(url, allow_redirects=True)\n",
        "    if os.path.isfile(fn):\n",
        "      print('exists')\n",
        "    else:\n",
        "      open(fn, 'wb').write(r.content)\n",
        "    lst.append(fn)\n",
        "  return lst"
      ]
    },
    {
      "cell_type": "code",
      "execution_count": null,
      "metadata": {
        "colab": {
          "background_save": true
        },
        "id": "CYDsUDPR6AVI"
      },
      "outputs": [],
      "source": [
        "\n",
        "result_hist={}\n",
        "result_scn={}\n",
        "\n",
        "for i,mdl in enumerate(mdls):\n",
        "  result_scn[mdl]={}\n",
        "  result_hist[mdl]={}\n",
        "  for j,var in enumerate(vars):\n",
        "        result_scn[mdl][var]={}\n",
        "        result_hist[mdl][var]= esgf_search(activity_id='CMIP', table_id=var_types[var],\n",
        "                      experiment_id='historical', variable_id=var,\n",
        "                      source_id=mdl)\n",
        "        for k,scn in enumerate(scens):\n",
        "              result_scn[mdl][var][scn] = esgf_search(activity_id='ScenarioMIP', table_id=var_types[var],\n",
        "                            experiment_id=scn, variable_id=var,\n",
        "                            source_id=mdl)\n",
        "              if len(result_scn[mdl][var][scn])>0:\n",
        "                response = requests.get(result_scn[mdl][var][scn][0][0])\n",
        "                if response.status_code != 200:\n",
        "                  result_scn[mdl][var][scn] = esgf_search(activity_id='ScenarioMIP', table_id=var_types[var],\n",
        "                            experiment_id=scn, variable_id=var,\n",
        "                            source_id=mdl,use_replicas=True)\n"
      ]
    },
    {
      "cell_type": "code",
      "execution_count": null,
      "metadata": {
        "colab": {
          "background_save": true
        },
        "id": "OLib2MHJ2tAv"
      },
      "outputs": [],
      "source": [
        "result_area={}\n",
        "for i,mdl in enumerate(mdls):\n",
        "\n",
        "  result_area[mdl] = esgf_search(variable_id='areacella', activity_id='CMIP',\n",
        "                          source_id=mdl)"
      ]
    },
    {
      "cell_type": "code",
      "execution_count": null,
      "metadata": {
        "colab": {
          "background_save": true
        },
        "id": "uqPXJh7b5JYX",
        "outputId": "a5002aeb-fee0-4085-da1b-034989764a9b"
      },
      "outputs": [
        {
          "name": "stdout",
          "output_type": "stream",
          "text": [
            "CanESM5\n",
            "tas\n",
            "fgco2\n",
            "exists\n",
            "nbp\n",
            "GFDL-ESM4\n",
            "tas\n",
            "fgco2\n",
            "exists\n",
            "exists\n",
            "exists\n",
            "exists\n",
            "exists\n",
            "exists\n",
            "exists\n",
            "exists\n",
            "exists\n",
            "nbp\n",
            "GISS-E2-1-G\n",
            "tas\n",
            "fgco2\n",
            "exists\n",
            "exists\n",
            "exists\n",
            "exists\n",
            "nbp\n"
          ]
        }
      ],
      "source": [
        "ds_hist={}\n",
        "for i,mdl in enumerate(mdls):\n",
        "  print(mdl)\n",
        "  tmp=[]\n",
        "  tmp.append( xr.open_dataset(result_area[mdl][0][0]))\n",
        "  for j,var in enumerate(vars):\n",
        "       print(var)\n",
        "       if len(result_hist[mdl][var])>0:\n",
        "              fn=result_hist[mdl][var][0]\n",
        "              if var=='fgco2':\n",
        "                 lst=pullfile(fn)\n",
        "                 tmph = xr.open_mfdataset(lst,  concat_dim=\"time\",\n",
        "                                      combine=\"nested\",use_cftime=True,\n",
        "                                      ).drop_duplicates('time', keep='first')\n",
        "                 regridder = xe.Regridder(tmph, tmp[0]['areacella'], \"bilinear\",ignore_degenerate=True)\n",
        "                 tmph=regridder(tmph)\n",
        "              else:\n",
        "                 tmph = xr.open_mfdataset(fn,  concat_dim=\"time\",\n",
        "                                      combine=\"nested\",use_cftime=True,\n",
        "                                      ).drop_duplicates('time', keep='first')\n",
        "              tmp.append(tmph)\n",
        "  ds_hist[mdl]=xr.merge(tmp,compat='override')\n"
      ]
    },
    {
      "cell_type": "code",
      "execution_count": null,
      "metadata": {
        "colab": {
          "background_save": true
        },
        "id": "IDf0_VKRLdU3",
        "outputId": "c1c3f542-2ede-4c30-8ccb-58cf9baa029d"
      },
      "outputs": [
        {
          "name": "stdout",
          "output_type": "stream",
          "text": [
            "CanESM5\n",
            "ssp245\n",
            "exists\n",
            "ssp534-over\n",
            "exists\n",
            "exists\n",
            "ssp126\n",
            "exists\n",
            "ssp119\n",
            "exists\n",
            "ssp585\n",
            "exists\n",
            "GFDL-ESM4\n",
            "ssp245\n",
            "exists\n",
            "exists\n",
            "exists\n",
            "exists\n",
            "exists\n",
            "ssp534-over\n",
            "ssp126\n",
            "exists\n",
            "exists\n",
            "exists\n",
            "exists\n",
            "exists\n",
            "ssp119\n",
            "exists\n",
            "exists\n",
            "exists\n",
            "exists\n",
            "exists\n",
            "ssp585\n",
            "exists\n",
            "exists\n",
            "exists\n",
            "exists\n",
            "exists\n",
            "GISS-E2-1-G\n",
            "ssp245\n",
            "exists\n",
            "exists\n",
            "ssp534-over\n",
            "ssp126\n",
            "exists\n",
            "exists\n",
            "ssp119\n",
            "ssp585\n"
          ]
        }
      ],
      "source": [
        "ds_scn={}\n",
        "for i,mdl in enumerate(mdls):\n",
        "    print(mdl)\n",
        "    ds_scn[mdl]={}\n",
        "    for j,scn in enumerate(scens):\n",
        "      print(scn)\n",
        "      tmp=[]\n",
        "      tmp.append(xr.open_dataset(result_area[mdl][0][0]))\n",
        "      for k,var in enumerate(vars):\n",
        "       #print(var)\n",
        "       if len(result_scn[mdl][var][scn])>0:\n",
        "          if scn=='ssp534-over':\n",
        "              f85=result_scn[mdl][var]['ssp585'][0]\n",
        "              grd=f85[0].split('_')[-2]\n",
        "              if var=='fgco2':\n",
        "                 lst=pullfile(f85)\n",
        "                 tmp0 = xr.open_mfdataset(lst, concat_dim=\"time\",combine=\"nested\",use_cftime=True,coords='minimal')\n",
        "              else:\n",
        "                 tmp0 = xr.open_mfdataset(f85, concat_dim=\"time\",combine=\"nested\",use_cftime=True,coords='minimal')\n",
        "\n",
        "              if var=='fgco2':\n",
        "                regridder = xe.Regridder(tmp0, tmp[0]['areacella'], \"bilinear\",ignore_degenerate=True)\n",
        "                tmp0=regridder(tmp0)\n",
        "              f34=result_scn[mdl][var]['ssp534-over'][0]\n",
        "              grd=f34[0].split('_')[-2]\n",
        "              if var=='fgco2':\n",
        "                 lst=pullfile(f34)\n",
        "                 tmp1 = xr.open_mfdataset(lst, concat_dim=\"time\",combine=\"nested\",use_cftime=True,coords='minimal')\n",
        "              else:\n",
        "                 tmp1 = xr.open_mfdataset(f34, concat_dim=\"time\",combine=\"nested\",use_cftime=True,coords='minimal')\n",
        "\n",
        "              if var=='fgco2':\n",
        "                regridder = xe.Regridder(tmp1, tmp[0]['areacella'], \"bilinear\",ignore_degenerate=True)\n",
        "                tmp1=regridder(tmp1)\n",
        "              tmps=xr.concat((tmp0.drop_duplicates('time', keep='first').sel(time=slice(\"1850-01-01\", \"2039-12-30\")),tmp1.drop_duplicates('time', keep='first').sel(time=slice(\"2040-01-01\", \"2300-12-30\"))),'time')\n",
        "          else:\n",
        "              fn=result_scn[mdl][var][scn][0]\n",
        "              grd=fn[0].split('_')[-2]\n",
        "              if var=='fgco2':\n",
        "                 lst=pullfile(fn)\n",
        "                 tmps = xr.open_mfdataset(lst, concat_dim=\"time\",combine=\"nested\",use_cftime=True,coords='minimal')\n",
        "              else:\n",
        "                 tmps = xr.open_mfdataset(fn, concat_dim=\"time\",combine=\"nested\",use_cftime=True,coords='minimal')\n",
        "\n",
        "              if var=='fgco2':\n",
        "                regridder = xe.Regridder(tmps, tmp[0]['areacella'], \"bilinear\",ignore_degenerate=True)\n",
        "                tmps=regridder(tmps)\n",
        "          tmpc=xr.concat([ds_hist[mdl][var],tmps[var]],'time')\n",
        "  #        if var=='fgco2':\n",
        "  #            regridder = xe.Regridder(tmpc, tmp[0]['areacella'], \"bilinear\",ignore_degenerate=True)\n",
        "  #            tmp[0]['fgco2']=regridder(tmpc)\n",
        "  #        else:\n",
        "          tmp.append(tmpc)\n",
        "      ds_scn[mdl][scn]=xr.merge(tmp,compat='override')\n"
      ]
    },
    {
      "cell_type": "code",
      "execution_count": null,
      "metadata": {
        "colab": {
          "background_save": true
        },
        "id": "LY9GNCnf44Ju"
      },
      "outputs": [],
      "source": [
        "datadir='/content/drive/MyDrive/tcre_star'"
      ]
    },
    {
      "cell_type": "code",
      "execution_count": 25,
      "metadata": {
        "id": "NzBasItCPBWk",
        "colab": {
          "base_uri": "https://localhost:8080/"
        },
        "outputId": "ef6e099b-7772-4ca7-977b-749b10b0b7af"
      },
      "outputs": [
        {
          "output_type": "stream",
          "name": "stdout",
          "text": [
            "CanESM5\n",
            "ssp245\n",
            "tas\n",
            "fgco2\n",
            "nbp\n",
            "ssp534-over\n",
            "tas\n",
            "fgco2\n",
            "nbp\n",
            "ssp126\n",
            "tas\n",
            "fgco2\n",
            "nbp\n",
            "ssp119\n",
            "tas\n",
            "fgco2\n",
            "nbp\n",
            "ssp585\n",
            "tas\n",
            "fgco2\n",
            "nbp\n",
            "GFDL-ESM4\n",
            "ssp245\n",
            "tas\n",
            "fgco2\n",
            "nbp\n",
            "ssp534-over\n",
            "ssp126\n",
            "tas\n",
            "fgco2\n",
            "nbp\n",
            "ssp119\n",
            "tas\n",
            "fgco2\n",
            "nbp\n",
            "ssp585\n",
            "tas\n",
            "fgco2\n",
            "nbp\n",
            "GISS-E2-1-G\n",
            "ssp245\n",
            "tas\n",
            "fgco2\n",
            "nbp\n",
            "ssp534-over\n",
            "tas\n",
            "nbp\n",
            "ssp126\n",
            "tas\n",
            "fgco2\n",
            "nbp\n",
            "ssp119\n",
            "tas\n",
            "nbp\n",
            "ssp585\n",
            "tas\n",
            "nbp\n"
          ]
        }
      ],
      "source": [
        "\n",
        "for i,mdl in enumerate(mdls):\n",
        "  print(mdl)\n",
        "  for j,scn in enumerate(scens):\n",
        "    print(scn)\n",
        "    lst=[]\n",
        "    for v,var in enumerate(vars):\n",
        "      if len(result_scn[mdl][var][scn])>0:\n",
        "        print(var)\n",
        "        tmp1=ds_scn[mdl][scn][var].sel(time=slice('1850-01-01', '1900-12-31')).load()\n",
        "        tmp2=ds_scn[mdl][scn][var].sel(time=slice('1901-01-01', '1950-12-31')).load()\n",
        "        tmp3=ds_scn[mdl][scn][var].sel(time=slice('1951-01-01', '2000-12-31')).load()\n",
        "        tmp4=ds_scn[mdl][scn][var].sel(time=slice('2001-01-01', '2050-12-31')).load()\n",
        "        tmp5=ds_scn[mdl][scn][var].sel(time=slice('2051-01-01', '2100-12-31')).load()\n",
        "        tmp=xr.concat([tmp1,tmp2,tmp3,tmp4,tmp5],dim='time')\n",
        "        #tmp=ds_scn[mdl][scn][var].load()\n",
        "        tmp=tmp.groupby('time.year').mean()\n",
        "        lst.append(tmp)\n",
        "\n",
        "    ot=xr.merge(lst)\n",
        "    ot.to_netcdf(\"/content/drive/MyDrive/tcre_star/\"+mdl+'_'+scn+'.nc')\n",
        "    ds_scn[mdl][scn].close()"
      ]
    },
    {
      "cell_type": "code",
      "execution_count": null,
      "metadata": {
        "id": "t3_FBBCCgp_W"
      },
      "outputs": [],
      "source": [
        "ot.fgco2[0,:,:].plot()"
      ]
    },
    {
      "cell_type": "code",
      "execution_count": null,
      "metadata": {
        "id": "HMaSJc0CQEIQ"
      },
      "outputs": [],
      "source": [
        "import csv\n",
        "\n",
        "with open(datadir+'/mdls.csv', 'w', newline='') as f:\n",
        "    writer = csv.writer(f)\n",
        "    writer.writerow(mdls)"
      ]
    },
    {
      "cell_type": "code",
      "execution_count": null,
      "metadata": {
        "id": "rsXm-A0jQyFT"
      },
      "outputs": [],
      "source": [
        "with open(datadir+'/scens.csv', 'w', newline='') as f:\n",
        "    writer = csv.writer(f)\n",
        "    writer.writerow(scens)"
      ]
    },
    {
      "cell_type": "code",
      "execution_count": null,
      "metadata": {
        "id": "Qh88LHORQ4hJ"
      },
      "outputs": [],
      "source": []
    }
  ],
  "metadata": {
    "colab": {
      "machine_shape": "hm",
      "provenance": [],
      "include_colab_link": true
    },
    "kernelspec": {
      "display_name": "Python 3",
      "name": "python3"
    },
    "language_info": {
      "codemirror_mode": {
        "name": "ipython",
        "version": 3
      },
      "file_extension": ".py",
      "mimetype": "text/x-python",
      "name": "python",
      "nbconvert_exporter": "python",
      "pygments_lexer": "ipython3",
      "version": "3.6.7"
    }
  },
  "nbformat": 4,
  "nbformat_minor": 0
}