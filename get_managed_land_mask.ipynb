{
  "cells": [
    {
      "cell_type": "markdown",
      "metadata": {
        "id": "view-in-github",
        "colab_type": "text"
      },
      "source": [
        "<a href=\"https://colab.research.google.com/github/benmsanderson/tcre-star/blob/main/get_managed_land_mask.ipynb\" target=\"_parent\"><img src=\"https://colab.research.google.com/assets/colab-badge.svg\" alt=\"Open In Colab\"/></a>"
      ]
    },
    {
      "cell_type": "markdown",
      "metadata": {
        "id": "TrObek7LFK_s"
      },
      "source": [
        "Get forest definition data (if not present)"
      ]
    },
    {
      "cell_type": "code",
      "source": [
        "pip install geocube"
      ],
      "metadata": {
        "colab": {
          "base_uri": "https://localhost:8080/"
        },
        "id": "SKpP3lY7KPkS",
        "outputId": "a4b4d957-f6f1-4c68-b1bd-83fac6333e62"
      },
      "execution_count": 11,
      "outputs": [
        {
          "output_type": "stream",
          "name": "stdout",
          "text": [
            "Collecting geocube\n",
            "  Downloading geocube-0.4.2-py3-none-any.whl (21 kB)\n",
            "Requirement already satisfied: appdirs in /usr/local/lib/python3.10/dist-packages (from geocube) (1.4.4)\n",
            "Requirement already satisfied: click>=6.0 in /usr/local/lib/python3.10/dist-packages (from geocube) (8.1.7)\n",
            "Requirement already satisfied: geopandas>=0.7 in /usr/local/lib/python3.10/dist-packages (from geocube) (0.13.2)\n",
            "Collecting odc-geo (from geocube)\n",
            "  Downloading odc_geo-0.4.1-py3-none-any.whl (122 kB)\n",
            "\u001b[2K     \u001b[90m━━━━━━━━━━━━━━━━━━━━━━━━━━━━━━━━━━━━━━━\u001b[0m \u001b[32m122.4/122.4 kB\u001b[0m \u001b[31m5.7 MB/s\u001b[0m eta \u001b[36m0:00:00\u001b[0m\n",
            "\u001b[?25hCollecting rasterio (from geocube)\n",
            "  Downloading rasterio-1.3.8-cp310-cp310-manylinux_2_17_x86_64.manylinux2014_x86_64.whl (21.3 MB)\n",
            "\u001b[2K     \u001b[90m━━━━━━━━━━━━━━━━━━━━━━━━━━━━━━━━━━━━━━━━\u001b[0m \u001b[32m21.3/21.3 MB\u001b[0m \u001b[31m69.8 MB/s\u001b[0m eta \u001b[36m0:00:00\u001b[0m\n",
            "\u001b[?25hCollecting rioxarray>=0.4 (from geocube)\n",
            "  Downloading rioxarray-0.15.0-py3-none-any.whl (53 kB)\n",
            "\u001b[2K     \u001b[90m━━━━━━━━━━━━━━━━━━━━━━━━━━━━━━━━━━━━━━━━\u001b[0m \u001b[32m53.7/53.7 kB\u001b[0m \u001b[31m5.9 MB/s\u001b[0m eta \u001b[36m0:00:00\u001b[0m\n",
            "\u001b[?25hRequirement already satisfied: scipy in /usr/local/lib/python3.10/dist-packages (from geocube) (1.11.2)\n",
            "Requirement already satisfied: xarray>=0.17 in /usr/local/lib/python3.10/dist-packages (from geocube) (2023.7.0)\n",
            "Requirement already satisfied: pyproj>=2 in /usr/local/lib/python3.10/dist-packages (from geocube) (3.6.0)\n",
            "Requirement already satisfied: numpy>=1.20 in /usr/local/lib/python3.10/dist-packages (from geocube) (1.23.5)\n",
            "Requirement already satisfied: fiona>=1.8.19 in /usr/local/lib/python3.10/dist-packages (from geopandas>=0.7->geocube) (1.9.4.post1)\n",
            "Requirement already satisfied: packaging in /usr/local/lib/python3.10/dist-packages (from geopandas>=0.7->geocube) (23.1)\n",
            "Requirement already satisfied: pandas>=1.1.0 in /usr/local/lib/python3.10/dist-packages (from geopandas>=0.7->geocube) (1.5.3)\n",
            "Requirement already satisfied: shapely>=1.7.1 in /usr/local/lib/python3.10/dist-packages (from geopandas>=0.7->geocube) (2.0.1)\n",
            "Requirement already satisfied: certifi in /usr/local/lib/python3.10/dist-packages (from pyproj>=2->geocube) (2023.7.22)\n",
            "Collecting affine (from rasterio->geocube)\n",
            "  Downloading affine-2.4.0-py3-none-any.whl (15 kB)\n",
            "Requirement already satisfied: attrs in /usr/local/lib/python3.10/dist-packages (from rasterio->geocube) (23.1.0)\n",
            "Requirement already satisfied: cligj>=0.5 in /usr/local/lib/python3.10/dist-packages (from rasterio->geocube) (0.7.2)\n",
            "Collecting snuggs>=1.4.1 (from rasterio->geocube)\n",
            "  Downloading snuggs-1.4.7-py3-none-any.whl (5.4 kB)\n",
            "Requirement already satisfied: click-plugins in /usr/local/lib/python3.10/dist-packages (from rasterio->geocube) (1.1.1)\n",
            "Requirement already satisfied: setuptools in /usr/local/lib/python3.10/dist-packages (from rasterio->geocube) (67.7.2)\n",
            "Requirement already satisfied: cachetools in /usr/local/lib/python3.10/dist-packages (from odc-geo->geocube) (5.3.1)\n",
            "Requirement already satisfied: six in /usr/local/lib/python3.10/dist-packages (from fiona>=1.8.19->geopandas>=0.7->geocube) (1.16.0)\n",
            "Requirement already satisfied: python-dateutil>=2.8.1 in /usr/local/lib/python3.10/dist-packages (from pandas>=1.1.0->geopandas>=0.7->geocube) (2.8.2)\n",
            "Requirement already satisfied: pytz>=2020.1 in /usr/local/lib/python3.10/dist-packages (from pandas>=1.1.0->geopandas>=0.7->geocube) (2023.3.post1)\n",
            "Requirement already satisfied: pyparsing>=2.1.6 in /usr/local/lib/python3.10/dist-packages (from snuggs>=1.4.1->rasterio->geocube) (3.1.1)\n",
            "Installing collected packages: snuggs, affine, rasterio, odc-geo, rioxarray, geocube\n",
            "Successfully installed affine-2.4.0 geocube-0.4.2 odc-geo-0.4.1 rasterio-1.3.8 rioxarray-0.15.0 snuggs-1.4.7\n"
          ]
        }
      ]
    },
    {
      "cell_type": "code",
      "execution_count": null,
      "metadata": {
        "colab": {
          "base_uri": "https://localhost:8080/"
        },
        "id": "2Mbc08YLioIU",
        "outputId": "62916754-26b5-4d43-9709-ef790b2f241e"
      },
      "outputs": [
        {
          "name": "stdout",
          "output_type": "stream",
          "text": [
            "--2023-10-01 11:13:41--  https://intactforests.org/shp/IFL_2000.zip\n",
            "Resolving intactforests.org (intactforests.org)... 128.8.149.19\n",
            "Connecting to intactforests.org (intactforests.org)|128.8.149.19|:443... connected.\n",
            "HTTP request sent, awaiting response... 200 OK\n",
            "Length: 191156796 (182M) [application/zip]\n",
            "Saving to: ‘IFL_2000.zip’\n",
            "\n",
            "IFL_2000.zip        100%[===================>] 182.30M  29.1MB/s    in 6.6s    \n",
            "\n",
            "2023-10-01 11:13:48 (27.6 MB/s) - ‘IFL_2000.zip’ saved [191156796/191156796]\n",
            "\n",
            "--2023-10-01 11:13:48--  https://intactforests.org/shp/Forest_zone.zip\n",
            "Resolving intactforests.org (intactforests.org)... 128.8.149.19\n",
            "Connecting to intactforests.org (intactforests.org)|128.8.149.19|:443... connected.\n",
            "HTTP request sent, awaiting response... 200 OK\n",
            "Length: 36248454 (35M) [application/zip]\n",
            "Saving to: ‘Forest_zone.zip’\n",
            "\n",
            "Forest_zone.zip     100%[===================>]  34.57M  21.9MB/s    in 1.6s    \n",
            "\n",
            "2023-10-01 11:13:50 (21.9 MB/s) - ‘Forest_zone.zip’ saved [36248454/36248454]\n",
            "\n"
          ]
        }
      ],
      "source": [
        "!wget -nc https://intactforests.org/shp/IFL_2000.zip\n",
        "!wget -nc https://intactforests.org/shp/Forest_zone.zip"
      ]
    },
    {
      "cell_type": "markdown",
      "metadata": {
        "id": "TSJ1ZZE8FPsu"
      },
      "source": [
        "Import stuff"
      ]
    },
    {
      "cell_type": "code",
      "execution_count": 14,
      "metadata": {
        "id": "65Wl2hV_890_"
      },
      "outputs": [],
      "source": [
        "import geopandas as gpd\n",
        "from geocube.api.core import make_geocube\n",
        "import numpy as np\n"
      ]
    },
    {
      "cell_type": "code",
      "execution_count": null,
      "metadata": {
        "id": "I3PxRvAuipvo"
      },
      "outputs": [],
      "source": [
        "def get_fgrids():\n",
        "  gdf = gpd.read_file('IFL_2000.zip')\n",
        "  gadf = gpd.read_file('Forest_zone.zip')\n",
        "\n",
        "  world = gpd.read_file(gpd.datasets.get_path('naturalearth_lowres'))\n",
        "  gdf_crs=gdf.translate(xoff=360)\n",
        "  gadf[\"exists\"] = 1\n",
        "  gdf[\"exists\"] = 1\n",
        "\n",
        "  out_grid=make_geocube(vector_data=gdf, measurements=[\"exists\"], fill=np.nan, resolution=(0.05, -0.05)).fillna(0)\n",
        "  out_fgrid=make_geocube(vector_data=gadf, measurements=[\"exists\"], fill=np.nan, resolution=(0.05, -0.05)).fillna(0)\n",
        "\n",
        "  out_grid=out_grid.rename({'x': 'lon','y': 'lat'})\n",
        "  out_fgrid=out_fgrid.rename({'x': 'lon','y': 'lat'})\n",
        "  return out_grid,out_fgrid\n"
      ]
    },
    {
      "cell_type": "code",
      "execution_count": 15,
      "metadata": {
        "colab": {
          "base_uri": "https://localhost:8080/"
        },
        "id": "AKQZ4F9r83GK",
        "outputId": "d16c916c-3fe7-41f1-9bd5-1aa2c8f9f8fb"
      },
      "outputs": [
        {
          "output_type": "stream",
          "name": "stderr",
          "text": [
            "<ipython-input-6-4600bc800ca2>:5: FutureWarning: The geopandas.dataset module is deprecated and will be removed in GeoPandas 1.0. You can get the original 'naturalearth_lowres' data from https://www.naturalearthdata.com/downloads/110m-cultural-vectors/.\n",
            "  world = gpd.read_file(gpd.datasets.get_path('naturalearth_lowres'))\n"
          ]
        }
      ],
      "source": [
        "out_grid,out_fgrid=get_fgrids()"
      ]
    },
    {
      "cell_type": "code",
      "source": [],
      "metadata": {
        "id": "LQvixgHILyiM"
      },
      "execution_count": null,
      "outputs": []
    },
    {
      "cell_type": "code",
      "source": [
        "from google.colab import drive\n",
        "drive.mount('/content/drive')"
      ],
      "metadata": {
        "colab": {
          "base_uri": "https://localhost:8080/"
        },
        "id": "zEDsl-xhLzyy",
        "outputId": "c14f6b98-9f5f-46fb-fb03-546a75f85726"
      },
      "execution_count": 18,
      "outputs": [
        {
          "output_type": "stream",
          "name": "stdout",
          "text": [
            "Drive already mounted at /content/drive; to attempt to forcibly remount, call drive.mount(\"/content/drive\", force_remount=True).\n"
          ]
        }
      ]
    },
    {
      "cell_type": "code",
      "source": [
        "out_grid.to_netcdf('out_grid.nc')"
      ],
      "metadata": {
        "id": "Espb3wZ0L1Ns"
      },
      "execution_count": 23,
      "outputs": []
    },
    {
      "cell_type": "code",
      "source": [
        "out_fgrid.to_netcdf('out_fgrid.nc')"
      ],
      "metadata": {
        "id": "3Cst-5sHMHt4"
      },
      "execution_count": 22,
      "outputs": []
    }
  ],
  "metadata": {
    "colab": {
      "machine_shape": "hm",
      "provenance": [],
      "include_colab_link": true
    },
    "gpuClass": "standard",
    "kernelspec": {
      "display_name": "xesmf",
      "language": "python",
      "name": "xesmf"
    },
    "language_info": {
      "codemirror_mode": {
        "name": "ipython",
        "version": 3
      },
      "file_extension": ".py",
      "mimetype": "text/x-python",
      "name": "python",
      "nbconvert_exporter": "python",
      "pygments_lexer": "ipython3",
      "version": "3.7.12"
    }
  },
  "nbformat": 4,
  "nbformat_minor": 0
}