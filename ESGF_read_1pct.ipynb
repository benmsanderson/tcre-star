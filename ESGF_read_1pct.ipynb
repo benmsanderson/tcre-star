{
  "cells": [
    {
      "cell_type": "markdown",
      "metadata": {
        "id": "view-in-github",
        "colab_type": "text"
      },
      "source": [
        "<a href=\"https://colab.research.google.com/github/benmsanderson/tcre-star/blob/main/ESGF_read_1pct.ipynb\" target=\"_parent\"><img src=\"https://colab.research.google.com/assets/colab-badge.svg\" alt=\"Open In Colab\"/></a>"
      ]
    },
    {
      "cell_type": "code",
      "execution_count": 1,
      "metadata": {
        "id": "8SWL6pqMsawL"
      },
      "outputs": [],
      "source": [
        "import os\n",
        "import requests\n"
      ]
    },
    {
      "cell_type": "code",
      "execution_count": 2,
      "metadata": {
        "colab": {
          "base_uri": "https://localhost:8080/"
        },
        "id": "FHwHcepyst1x",
        "outputId": "a9b5dc2e-d67c-4f7a-84cf-b25be2e4e2fb"
      },
      "outputs": [
        {
          "output_type": "stream",
          "name": "stdout",
          "text": [
            "Drive already mounted at /content/drive; to attempt to forcibly remount, call drive.mount(\"/content/drive\", force_remount=True).\n"
          ]
        }
      ],
      "source": [
        "from google.colab import drive\n",
        "drive.mount('/content/drive')"
      ]
    },
    {
      "cell_type": "code",
      "execution_count": 3,
      "metadata": {
        "id": "w3NMZqvns-Tw"
      },
      "outputs": [],
      "source": [
        "!cp /content/drive/MyDrive/esmf/esmf.tar /content"
      ]
    },
    {
      "cell_type": "code",
      "execution_count": 4,
      "metadata": {
        "id": "R9gM7ayyuX17"
      },
      "outputs": [],
      "source": [
        "os.chdir('/content')\n",
        "!tar -xf esmf.tar"
      ]
    },
    {
      "cell_type": "code",
      "execution_count": 5,
      "metadata": {
        "colab": {
          "base_uri": "https://localhost:8080/"
        },
        "id": "ZrCOM8d7unMT",
        "outputId": "b7897f07-4207-4426-c5de-e2e5f792bf3f"
      },
      "outputs": [
        {
          "output_type": "stream",
          "name": "stdout",
          "text": [
            "Processing ./esmf/src/addon/esmpy\n",
            "  Installing build dependencies ... \u001b[?25l\u001b[?25hdone\n",
            "  Getting requirements to build wheel ... \u001b[?25l\u001b[?25hdone\n",
            "  Preparing metadata (pyproject.toml) ... \u001b[?25l\u001b[?25hdone\n",
            "Requirement already satisfied: numpy in /usr/local/lib/python3.10/dist-packages (from esmpy==8.6.0b7) (1.23.5)\n",
            "Requirement already satisfied: setuptools-git-versioning in /usr/local/lib/python3.10/dist-packages (from esmpy==8.6.0b7) (1.13.5)\n",
            "Requirement already satisfied: packaging in /usr/local/lib/python3.10/dist-packages (from setuptools-git-versioning->esmpy==8.6.0b7) (23.2)\n",
            "Requirement already satisfied: setuptools in /usr/local/lib/python3.10/dist-packages (from setuptools-git-versioning->esmpy==8.6.0b7) (67.7.2)\n",
            "Requirement already satisfied: toml>=0.10.2 in /usr/local/lib/python3.10/dist-packages (from setuptools-git-versioning->esmpy==8.6.0b7) (0.10.2)\n",
            "Building wheels for collected packages: esmpy\n",
            "  Building wheel for esmpy (pyproject.toml) ... \u001b[?25l\u001b[?25hdone\n",
            "  Created wheel for esmpy: filename=esmpy-8.6.0b7-py3-none-any.whl size=120542 sha256=7bc1c17e238a8d8e87377ddcd9b05fffce3d7faaf5ae022435b4b0de59f6ed6d\n",
            "  Stored in directory: /tmp/pip-ephem-wheel-cache-8y0_inby/wheels/32/fe/f1/f7ade03cece49b78d0fe0ad7db65bca3927bb369ac4eb124bd\n",
            "Successfully built esmpy\n",
            "Installing collected packages: esmpy\n",
            "  Attempting uninstall: esmpy\n",
            "    Found existing installation: esmpy 8.6.0b7\n",
            "    Uninstalling esmpy-8.6.0b7:\n",
            "      Successfully uninstalled esmpy-8.6.0b7\n",
            "Successfully installed esmpy-8.6.0b7\n"
          ]
        }
      ],
      "source": [
        "!python3 -m pip install /content/esmf/src/addon/esmpy"
      ]
    },
    {
      "cell_type": "code",
      "execution_count": 6,
      "metadata": {
        "colab": {
          "base_uri": "https://localhost:8080/"
        },
        "id": "SW5QYY5juonn",
        "outputId": "17be4817-84f9-4b3e-bf27-2318b7c95f1c"
      },
      "outputs": [
        {
          "output_type": "stream",
          "name": "stdout",
          "text": [
            "Collecting git+https://github.com/pangeo-data/xesmf.git\n",
            "  Cloning https://github.com/pangeo-data/xesmf.git to /tmp/pip-req-build-afp0_guq\n",
            "  Running command git clone --filter=blob:none --quiet https://github.com/pangeo-data/xesmf.git /tmp/pip-req-build-afp0_guq\n",
            "  Resolved https://github.com/pangeo-data/xesmf.git to commit 35a872743d93205239bd00e84e54e85f5c393f0e\n",
            "  Installing build dependencies ... \u001b[?25l\u001b[?25hdone\n",
            "  Getting requirements to build wheel ... \u001b[?25l\u001b[?25hdone\n",
            "  Preparing metadata (pyproject.toml) ... \u001b[?25l\u001b[?25hdone\n",
            "Requirement already satisfied: cf-xarray>=0.5.1 in /usr/local/lib/python3.10/dist-packages (from xesmf==0.8.2) (0.8.4)\n",
            "Requirement already satisfied: numba>=0.55.2 in /usr/local/lib/python3.10/dist-packages (from xesmf==0.8.2) (0.56.4)\n",
            "Requirement already satisfied: numpy>=1.16 in /usr/local/lib/python3.10/dist-packages (from xesmf==0.8.2) (1.23.5)\n",
            "Requirement already satisfied: shapely in /usr/local/lib/python3.10/dist-packages (from xesmf==0.8.2) (2.0.1)\n",
            "Requirement already satisfied: sparse>=0.8.0 in /usr/local/lib/python3.10/dist-packages (from xesmf==0.8.2) (0.14.0)\n",
            "Requirement already satisfied: xarray>=0.16.2 in /usr/local/lib/python3.10/dist-packages (from xesmf==0.8.2) (2023.7.0)\n",
            "Requirement already satisfied: llvmlite<0.40,>=0.39.0dev0 in /usr/local/lib/python3.10/dist-packages (from numba>=0.55.2->xesmf==0.8.2) (0.39.1)\n",
            "Requirement already satisfied: setuptools in /usr/local/lib/python3.10/dist-packages (from numba>=0.55.2->xesmf==0.8.2) (67.7.2)\n",
            "Requirement already satisfied: scipy>=0.19 in /usr/local/lib/python3.10/dist-packages (from sparse>=0.8.0->xesmf==0.8.2) (1.11.3)\n",
            "Requirement already satisfied: pandas>=1.4 in /usr/local/lib/python3.10/dist-packages (from xarray>=0.16.2->xesmf==0.8.2) (1.5.3)\n",
            "Requirement already satisfied: packaging>=21.3 in /usr/local/lib/python3.10/dist-packages (from xarray>=0.16.2->xesmf==0.8.2) (23.2)\n",
            "Requirement already satisfied: python-dateutil>=2.8.1 in /usr/local/lib/python3.10/dist-packages (from pandas>=1.4->xarray>=0.16.2->xesmf==0.8.2) (2.8.2)\n",
            "Requirement already satisfied: pytz>=2020.1 in /usr/local/lib/python3.10/dist-packages (from pandas>=1.4->xarray>=0.16.2->xesmf==0.8.2) (2023.3.post1)\n",
            "Requirement already satisfied: six>=1.5 in /usr/local/lib/python3.10/dist-packages (from python-dateutil>=2.8.1->pandas>=1.4->xarray>=0.16.2->xesmf==0.8.2) (1.16.0)\n"
          ]
        }
      ],
      "source": [
        "pip install git+https://github.com/pangeo-data/xesmf.git"
      ]
    },
    {
      "cell_type": "code",
      "execution_count": 7,
      "metadata": {
        "id": "SSJbo5hHupWN"
      },
      "outputs": [],
      "source": [
        "os.environ[\"ESMFMKFILE\"] = '/content/esmf/lib/libO/Linux.gfortran.64.mpiuni.default/esmf.mk'"
      ]
    },
    {
      "cell_type": "code",
      "execution_count": 8,
      "metadata": {
        "colab": {
          "base_uri": "https://localhost:8080/"
        },
        "id": "rk1h-bF8DYZp",
        "outputId": "10ad44f6-ec28-412f-e637-29916ad431f0"
      },
      "outputs": [
        {
          "output_type": "stream",
          "name": "stderr",
          "text": [
            "/usr/local/lib/python3.10/dist-packages/esmpy/interface/loadESMF.py:92: VersionWarning: ESMF installation version 8.6.0 beta snapshot, ESMPy version 8.6.0b7\n",
            "  warnings.warn(\"ESMF installation version {}, ESMPy version {}\".format(\n"
          ]
        }
      ],
      "source": [
        "import xesmf as xe\n"
      ]
    },
    {
      "cell_type": "code",
      "execution_count": 9,
      "metadata": {
        "id": "JPj2Bj-RaZV6"
      },
      "outputs": [],
      "source": [
        "import warnings\n",
        "warnings.simplefilter(\"ignore\")\n",
        "\n",
        "from itertools import groupby"
      ]
    },
    {
      "cell_type": "code",
      "execution_count": 10,
      "metadata": {
        "colab": {
          "base_uri": "https://localhost:8080/"
        },
        "id": "INLruQTNQzV_",
        "outputId": "def3a119-8edf-479c-be53-a3be4abe6a13"
      },
      "outputs": [
        {
          "output_type": "stream",
          "name": "stdout",
          "text": [
            "Requirement already satisfied: nc-time-axis in /usr/local/lib/python3.10/dist-packages (1.4.1)\n",
            "Requirement already satisfied: cftime>=1.5 in /usr/local/lib/python3.10/dist-packages (from nc-time-axis) (1.6.2)\n",
            "Requirement already satisfied: matplotlib in /usr/local/lib/python3.10/dist-packages (from nc-time-axis) (3.7.1)\n",
            "Requirement already satisfied: numpy in /usr/local/lib/python3.10/dist-packages (from nc-time-axis) (1.23.5)\n",
            "Requirement already satisfied: contourpy>=1.0.1 in /usr/local/lib/python3.10/dist-packages (from matplotlib->nc-time-axis) (1.1.1)\n",
            "Requirement already satisfied: cycler>=0.10 in /usr/local/lib/python3.10/dist-packages (from matplotlib->nc-time-axis) (0.12.0)\n",
            "Requirement already satisfied: fonttools>=4.22.0 in /usr/local/lib/python3.10/dist-packages (from matplotlib->nc-time-axis) (4.43.0)\n",
            "Requirement already satisfied: kiwisolver>=1.0.1 in /usr/local/lib/python3.10/dist-packages (from matplotlib->nc-time-axis) (1.4.5)\n",
            "Requirement already satisfied: packaging>=20.0 in /usr/local/lib/python3.10/dist-packages (from matplotlib->nc-time-axis) (23.2)\n",
            "Requirement already satisfied: pillow>=6.2.0 in /usr/local/lib/python3.10/dist-packages (from matplotlib->nc-time-axis) (9.4.0)\n",
            "Requirement already satisfied: pyparsing>=2.3.1 in /usr/local/lib/python3.10/dist-packages (from matplotlib->nc-time-axis) (3.1.1)\n",
            "Requirement already satisfied: python-dateutil>=2.7 in /usr/local/lib/python3.10/dist-packages (from matplotlib->nc-time-axis) (2.8.2)\n",
            "Requirement already satisfied: six>=1.5 in /usr/local/lib/python3.10/dist-packages (from python-dateutil>=2.7->matplotlib->nc-time-axis) (1.16.0)\n"
          ]
        }
      ],
      "source": [
        "pip install nc-time-axis\n"
      ]
    },
    {
      "cell_type": "code",
      "execution_count": 11,
      "metadata": {
        "colab": {
          "base_uri": "https://localhost:8080/"
        },
        "id": "4-I8e0cQLxlg",
        "outputId": "9fe9dea7-7387-4293-dd9a-0e93579ddc87"
      },
      "outputs": [
        {
          "output_type": "stream",
          "name": "stdout",
          "text": [
            "Requirement already satisfied: h5pyd in /usr/local/lib/python3.10/dist-packages (0.16.0)\n",
            "Requirement already satisfied: numpy>=1.17.3 in /usr/local/lib/python3.10/dist-packages (from h5pyd) (1.23.5)\n",
            "Requirement already satisfied: requests-unixsocket in /usr/local/lib/python3.10/dist-packages (from h5pyd) (0.3.0)\n",
            "Requirement already satisfied: pytz in /usr/local/lib/python3.10/dist-packages (from h5pyd) (2023.3.post1)\n",
            "Requirement already satisfied: pyjwt in /usr/lib/python3/dist-packages (from h5pyd) (2.3.0)\n",
            "Requirement already satisfied: requests>=1.1 in /usr/local/lib/python3.10/dist-packages (from requests-unixsocket->h5pyd) (2.31.0)\n",
            "Requirement already satisfied: charset-normalizer<4,>=2 in /usr/local/lib/python3.10/dist-packages (from requests>=1.1->requests-unixsocket->h5pyd) (3.3.0)\n",
            "Requirement already satisfied: idna<4,>=2.5 in /usr/local/lib/python3.10/dist-packages (from requests>=1.1->requests-unixsocket->h5pyd) (3.4)\n",
            "Requirement already satisfied: urllib3<3,>=1.21.1 in /usr/local/lib/python3.10/dist-packages (from requests>=1.1->requests-unixsocket->h5pyd) (2.0.6)\n",
            "Requirement already satisfied: certifi>=2017.4.17 in /usr/local/lib/python3.10/dist-packages (from requests>=1.1->requests-unixsocket->h5pyd) (2023.7.22)\n"
          ]
        }
      ],
      "source": [
        "pip install h5pyd"
      ]
    },
    {
      "cell_type": "code",
      "execution_count": 12,
      "metadata": {
        "colab": {
          "base_uri": "https://localhost:8080/"
        },
        "id": "YhjpkqcDPi2L",
        "outputId": "32abeac4-fa97-45d6-8a62-c83361ef0011"
      },
      "outputs": [
        {
          "output_type": "stream",
          "name": "stdout",
          "text": [
            "Requirement already satisfied: netcdf4==1.6.4 in /usr/local/lib/python3.10/dist-packages (1.6.4)\n",
            "Requirement already satisfied: cftime in /usr/local/lib/python3.10/dist-packages (from netcdf4==1.6.4) (1.6.2)\n",
            "Requirement already satisfied: certifi in /usr/local/lib/python3.10/dist-packages (from netcdf4==1.6.4) (2023.7.22)\n",
            "Requirement already satisfied: numpy in /usr/local/lib/python3.10/dist-packages (from netcdf4==1.6.4) (1.23.5)\n"
          ]
        }
      ],
      "source": [
        " pip install netcdf4==1.6.4"
      ]
    },
    {
      "cell_type": "code",
      "execution_count": 13,
      "metadata": {
        "id": "IuuBPEY43CMx"
      },
      "outputs": [],
      "source": [
        "import requests"
      ]
    },
    {
      "cell_type": "code",
      "execution_count": 14,
      "metadata": {
        "id": "0ohaP-T_Kt6A"
      },
      "outputs": [],
      "source": [
        "from matplotlib import pyplot as plt\n",
        "import numpy as np\n",
        "import pandas as pd\n",
        "import h5pyd\n",
        "import cftime\n",
        "import xarray as xr\n",
        "import nc_time_axis\n",
        "\n",
        "xr.set_options(display_style='html')\n",
        "%matplotlib inline\n",
        "%config InlineBackend.figure_format = 'retina'"
      ]
    },
    {
      "cell_type": "markdown",
      "metadata": {
        "id": "Tx-BKJAoKt6D"
      },
      "source": [
        "### Search using ESGF API"
      ]
    },
    {
      "cell_type": "code",
      "execution_count": 15,
      "metadata": {
        "id": "FKOA2TcZKt6D"
      },
      "outputs": [],
      "source": [
        "#!/usr/bin/env python\n",
        "from __future__ import print_function\n",
        "import requests\n",
        "import xml.etree.ElementTree as ET\n",
        "import numpy\n",
        "\n",
        "# Author: Unknown\n",
        "# I got the original version from a word document published by ESGF\n",
        "# https://docs.google.com/document/d/1pxz1Kd3JHfFp8vR2JCVBfApbsHmbUQQstifhGNdc6U0/edit?usp=sharing\n",
        "\n",
        "# API AT: https://github.com/ESGF/esgf.github.io/wiki/ESGF_Search_REST_API#results-pagination\n",
        "\n",
        "def esgf_search(server=\"https://esgf-node.llnl.gov/esg-search/search\",\n",
        "                files_type=\"OPENDAP\", local_node=True, project=\"CMIP6\",\n",
        "                verbose=False, format=\"application%2Fsolr%2Bjson\",\n",
        "                use_csrf=False, use_replicas=False, **search):\n",
        "    client = requests.session()\n",
        "    payload = search\n",
        "    payload[\"project\"] = project\n",
        "    payload[\"type\"]= \"File\"\n",
        "    payload[\"latest\"]=\"true\"\n",
        "    if use_replicas:\n",
        "        payload[\"replica\"]=\"true\"\n",
        "\n",
        "    if local_node:\n",
        "        payload[\"distrib\"] = \"false\"\n",
        "    if use_csrf:\n",
        "        client.get(server)\n",
        "        if 'csrftoken' in client.cookies:\n",
        "            # Django 1.6 and up\n",
        "            csrftoken = client.cookies['csrftoken']\n",
        "        else:\n",
        "            # older versions\n",
        "            csrftoken = client.cookies['csrf']\n",
        "        payload[\"csrfmiddlewaretoken\"] = csrftoken\n",
        "\n",
        "    payload[\"format\"] = format\n",
        "\n",
        "    offset = 0\n",
        "    numFound = 10000\n",
        "    all_files = []\n",
        "    files_type = files_type.upper()\n",
        "    while offset < numFound:\n",
        "        payload[\"offset\"] = offset\n",
        "        url_keys = []\n",
        "        for k in payload:\n",
        "            url_keys += [\"{}={}\".format(k, payload[k])]\n",
        "\n",
        "        url = \"{}/?{}\".format(server, \"&\".join(url_keys))\n",
        "        #print(url)\n",
        "        r = client.get(url)\n",
        "        r.raise_for_status()\n",
        "        resp = r.json()[\"response\"]\n",
        "        numFound = int(resp[\"numFound\"])\n",
        "        resp = resp[\"docs\"]\n",
        "        offset += len(resp)\n",
        "        for d in resp:\n",
        "            if verbose:\n",
        "                for k in d:\n",
        "                    print(\"{}: {}\".format(k,d[k]))\n",
        "            url = d[\"url\"]\n",
        "            for f in d[\"url\"]:\n",
        "                sp = f.split(\"|\")\n",
        "                if sp[-1] == files_type:\n",
        "                    all_files.append(sp[0].split(\".html\")[0])\n",
        "    result=sorted(all_files)\n",
        "    tmp = [[c for _, c in g] for _, g in groupby(zip( [x.split('_')[-3]+'_'+x.split('_')[-2]+'_'+x.split('_')[0].split('http://')[-1].split('/')[0] for x in result],result), key=lambda x: x[0])]\n",
        "    return tmp"
      ]
    },
    {
      "cell_type": "code",
      "execution_count": 16,
      "metadata": {
        "id": "GCAyFw-Oz1zx"
      },
      "outputs": [],
      "source": [
        "mdls=[\"CanESM5\",\"GFDL-ESM4\",\"GISS-E2-1-G\",\"GISS-E2-1-H\",\"CESM2-WACCM\",\"MIROC-ES2L\",\"UKESM1-0-LL\",\"IPSL-CM6A-LR\"]\n",
        "#mdls=[\"CanESM5\"]"
      ]
    },
    {
      "cell_type": "code",
      "execution_count": 17,
      "metadata": {
        "id": "Suk6c58hzXps"
      },
      "outputs": [],
      "source": [
        "scens={'piControl','1pctCO2'}\n",
        "vars={'fgco2','nbp','tas'}\n",
        "var_types={}\n",
        "var_types['nbp']='Lmon'\n",
        "var_types['tas']='Amon'\n",
        "var_types['fgco2']='Omon'\n",
        "\n"
      ]
    },
    {
      "cell_type": "code",
      "execution_count": 18,
      "metadata": {
        "id": "pnBQIDQCJTCt"
      },
      "outputs": [],
      "source": [
        "def pullfile(fl):\n",
        "  lst=[]\n",
        "  for f in fl:\n",
        "    url = f.replace('dodsC','fileServer')\n",
        "    fn=url.split('/')[-1]\n",
        "    r = requests.get(url, allow_redirects=True)\n",
        "    if os.path.isfile(fn):\n",
        "      print('exists')\n",
        "    else:\n",
        "      open(fn, 'wb').write(r.content)\n",
        "    lst.append(fn)\n",
        "  return lst"
      ]
    },
    {
      "cell_type": "code",
      "execution_count": 19,
      "metadata": {
        "id": "CYDsUDPR6AVI"
      },
      "outputs": [],
      "source": [
        "result_scn={}\n",
        "\n",
        "for i,mdl in enumerate(mdls):\n",
        "  result_scn[mdl]={}\n",
        "  for j,var in enumerate(vars):\n",
        "        result_scn[mdl][var]={}\n",
        "        for k,scn in enumerate(scens):\n",
        "              result_scn[mdl][var][scn] = esgf_search(activity_id='CMIP', table_id=var_types[var],\n",
        "                            experiment_id=scn, variable_id=var,\n",
        "                            source_id=mdl)\n",
        "              if len(result_scn[mdl][var][scn])>0:\n",
        "                response = requests.get(result_scn[mdl][var][scn][0][0])\n",
        "                if response.status_code != 200:\n",
        "                  result_scn[mdl][var][scn] = esgf_search(activity_id='CMIP', table_id=var_types[var],\n",
        "                            experiment_id=scn, variable_id=var,\n",
        "                            source_id=mdl,use_replicas=True)\n"
      ]
    },
    {
      "cell_type": "code",
      "execution_count": 20,
      "metadata": {
        "id": "OLib2MHJ2tAv"
      },
      "outputs": [],
      "source": [
        "result_area={}\n",
        "for i,mdl in enumerate(mdls):\n",
        "\n",
        "  result_area[mdl] = esgf_search(variable_id='areacella', activity_id='CMIP',\n",
        "                          source_id=mdl)"
      ]
    },
    {
      "cell_type": "code",
      "source": [
        "lst[:]"
      ],
      "metadata": {
        "colab": {
          "base_uri": "https://localhost:8080/"
        },
        "id": "SiTxancZ_eD1",
        "outputId": "fbe62219-5862-4aa3-b5c3-212dbed62712"
      },
      "execution_count": 26,
      "outputs": [
        {
          "output_type": "execute_result",
          "data": {
            "text/plain": [
              "['fgco2_Omon_CanESM5_piControl_r1i1p1f1_gn_520101-540012.nc',\n",
              " 'fgco2_Omon_CanESM5_piControl_r1i1p1f1_gn_540101-560012.nc',\n",
              " 'fgco2_Omon_CanESM5_piControl_r1i1p1f1_gn_560101-580012.nc',\n",
              " 'fgco2_Omon_CanESM5_piControl_r1i1p1f1_gn_580101-600012.nc',\n",
              " 'fgco2_Omon_CanESM5_piControl_r1i1p1f1_gn_600101-620012.nc']"
            ]
          },
          "metadata": {},
          "execution_count": 26
        }
      ]
    },
    {
      "cell_type": "code",
      "execution_count": 28,
      "metadata": {
        "colab": {
          "base_uri": "https://localhost:8080/"
        },
        "id": "IDf0_VKRLdU3",
        "outputId": "97908f89-b00d-4845-f40e-e2e340bc9ea2"
      },
      "outputs": [
        {
          "output_type": "stream",
          "name": "stdout",
          "text": [
            "CanESM5\n",
            "piControl\n",
            "exists\n",
            "exists\n",
            "exists\n",
            "exists\n",
            "exists\n",
            "1pctCO2\n",
            "GFDL-ESM4\n",
            "piControl\n",
            "1pctCO2\n",
            "GISS-E2-1-G\n",
            "piControl\n",
            "1pctCO2\n",
            "GISS-E2-1-H\n",
            "piControl\n",
            "1pctCO2\n",
            "CESM2-WACCM\n",
            "piControl\n",
            "1pctCO2\n",
            "MIROC-ES2L\n",
            "piControl\n",
            "1pctCO2\n",
            "UKESM1-0-LL\n",
            "piControl\n",
            "1pctCO2\n",
            "IPSL-CM6A-LR\n",
            "piControl\n",
            "1pctCO2\n"
          ]
        }
      ],
      "source": [
        "ds_scn={}\n",
        "for i,mdl in enumerate(mdls):\n",
        "    print(mdl)\n",
        "    ds_scn[mdl]={}\n",
        "    for j,scn in enumerate(scens):\n",
        "      print(scn)\n",
        "      tmp=[]\n",
        "      tmp.append(xr.open_dataset(result_area[mdl][0][0]))\n",
        "      for k,var in enumerate(vars):\n",
        "       #print(var)\n",
        "       if len(result_scn[mdl][var][scn])>0:\n",
        "\n",
        "              fn=result_scn[mdl][var][scn][0]\n",
        "              grd=fn[0].split('_')[-2]\n",
        "              if var=='fgco2':\n",
        "                 lst=pullfile(fn)\n",
        "                 tmps = xr.open_mfdataset(lst, concat_dim=\"time\",combine=\"nested\",use_cftime=True,coords='minimal')\n",
        "              else:\n",
        "                 tmps = xr.open_mfdataset(fn, concat_dim=\"time\",combine=\"nested\",use_cftime=True,coords='minimal')\n",
        "\n",
        "              if var=='fgco2':\n",
        "                regridder = xe.Regridder(tmps, tmp[0]['areacella'], \"bilinear\",ignore_degenerate=True)\n",
        "                tmps=regridder(tmps)\n",
        "              tmpc=tmps[var]\n",
        "  #        if var=='fgco2':\n",
        "  #            regridder = xe.Regridder(tmpc, tmp[0]['areacella'], \"bilinear\",ignore_degenerate=True)\n",
        "  #            tmp[0]['fgco2']=regridder(tmpc)\n",
        "  #        else:\n",
        "              tmp.append(tmpc)\n",
        "      ds_scn[mdl][scn]=xr.merge(tmp,compat='override')\n"
      ]
    },
    {
      "cell_type": "code",
      "execution_count": 29,
      "metadata": {
        "id": "LY9GNCnf44Ju"
      },
      "outputs": [],
      "source": [
        "datadir='/content/drive/MyDrive/tcre_star'"
      ]
    },
    {
      "cell_type": "code",
      "execution_count": null,
      "metadata": {
        "id": "NzBasItCPBWk",
        "colab": {
          "base_uri": "https://localhost:8080/"
        },
        "outputId": "8358f503-82bc-4651-ecc5-657375c0d070"
      },
      "outputs": [
        {
          "output_type": "stream",
          "name": "stdout",
          "text": [
            "CanESM5\n",
            "piControl\n",
            "fgco2\n",
            "nbp\n",
            "tas\n",
            "1pctCO2\n",
            "fgco2\n",
            "nbp\n",
            "tas\n",
            "GFDL-ESM4\n",
            "piControl\n",
            "fgco2\n",
            "nbp\n",
            "tas\n",
            "1pctCO2\n",
            "fgco2\n",
            "nbp\n",
            "tas\n",
            "GISS-E2-1-G\n",
            "piControl\n",
            "fgco2\n",
            "nbp\n",
            "tas\n",
            "1pctCO2\n",
            "fgco2\n",
            "tas\n",
            "GISS-E2-1-H\n",
            "piControl\n",
            "tas\n",
            "1pctCO2\n",
            "tas\n",
            "CESM2-WACCM\n",
            "piControl\n",
            "fgco2\n",
            "nbp\n",
            "tas\n",
            "1pctCO2\n",
            "fgco2\n",
            "nbp\n",
            "tas\n",
            "MIROC-ES2L\n",
            "piControl\n",
            "fgco2\n",
            "nbp\n",
            "tas\n"
          ]
        }
      ],
      "source": [
        "\n",
        "for i,mdl in enumerate(mdls):\n",
        "  print(mdl)\n",
        "  for j,scn in enumerate(scens):\n",
        "    print(scn)\n",
        "    lst=[]\n",
        "    for v,var in enumerate(vars):\n",
        "      if len(result_scn[mdl][var][scn])>0:\n",
        "        print(var)\n",
        "        tmp=ds_scn[mdl][scn][var].isel(time=slice(None,12*150)).load()\n",
        "        #tmp=xr.concat([tmp1,tmp2,tmp3,tmp4,tmp5],dim='time')\n",
        "        #tmp=ds_scn[mdl][scn][var].load()\n",
        "        tmp=tmp.groupby('time.year').mean()\n",
        "        lst.append(tmp)\n",
        "\n",
        "    ot=xr.merge(lst)\n",
        "    ot.to_netcdf(\"/content/drive/MyDrive/tcre_star/\"+mdl+'_'+scn+'.nc')\n",
        "    ds_scn[mdl][scn].close()"
      ]
    },
    {
      "cell_type": "code",
      "execution_count": null,
      "metadata": {
        "id": "t3_FBBCCgp_W"
      },
      "outputs": [],
      "source": [
        "ot.fgco2[0,:,:].plot()"
      ]
    },
    {
      "cell_type": "code",
      "execution_count": null,
      "metadata": {
        "id": "HMaSJc0CQEIQ"
      },
      "outputs": [],
      "source": [
        "import csv\n",
        "\n",
        "with open(datadir+'/mdls.csv', 'w', newline='') as f:\n",
        "    writer = csv.writer(f)\n",
        "    writer.writerow(mdls)"
      ]
    },
    {
      "cell_type": "code",
      "execution_count": null,
      "metadata": {
        "id": "rsXm-A0jQyFT"
      },
      "outputs": [],
      "source": [
        "with open(datadir+'/scens.csv', 'w', newline='') as f:\n",
        "    writer = csv.writer(f)\n",
        "    writer.writerow(scens)"
      ]
    },
    {
      "cell_type": "code",
      "execution_count": null,
      "metadata": {
        "id": "Qh88LHORQ4hJ"
      },
      "outputs": [],
      "source": []
    }
  ],
  "metadata": {
    "colab": {
      "machine_shape": "hm",
      "provenance": [],
      "include_colab_link": true
    },
    "kernelspec": {
      "display_name": "Python 3",
      "name": "python3"
    },
    "language_info": {
      "codemirror_mode": {
        "name": "ipython",
        "version": 3
      },
      "file_extension": ".py",
      "mimetype": "text/x-python",
      "name": "python",
      "nbconvert_exporter": "python",
      "pygments_lexer": "ipython3",
      "version": "3.6.7"
    }
  },
  "nbformat": 4,
  "nbformat_minor": 0
}